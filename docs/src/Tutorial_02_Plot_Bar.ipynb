{
 "cells": [
  {
   "cell_type": "markdown",
   "metadata": {},
   "source": [
    "## Install \n",
    "\n",
    "If you do not have the Python InterOp library installed, then you can do the following:\n",
    "\n",
    "    $ pip install -f https://github.com/Illumina/interop/releases/latest interop\n",
    "\n",
    "You can verify that InterOp is properly installed:\n",
    "\n",
    "    $ python -m interop --test"
   ]
  },
  {
   "cell_type": "markdown",
   "metadata": {},
   "source": [
    "## Before you begin\n",
    "If you plan to use this tutorial in an interactive fashion, then you should download an example run folder for an Illumina sequencer. For example, you may download and extract this example run folder: [MiSeqDemo](https://github.com/Illumina/interop/releases/download/v1.0.6/MiSeqDemo.zip)\n",
    "\n",
    "Please change the path below so that it points at the run folder you wish to use:"
   ]
  },
  {
   "cell_type": "code",
   "execution_count": 1,
   "metadata": {
    "collapsed": true
   },
   "outputs": [],
   "source": [
    "run_folder = r\"D:\\RTA.Data\\InteropData\\MiSeqDemo\""
   ]
  },
  {
   "cell_type": "markdown",
   "metadata": {},
   "source": [
    "## Creating the Q-score Histogram\n",
    "\n",
    "This tutorial demonstrates how to plot the SAV Q-score histogram in Python using the InterOp library."
   ]
  },
  {
   "cell_type": "code",
   "execution_count": 5,
   "metadata": {
    "collapsed": true
   },
   "outputs": [],
   "source": [
    "%matplotlib inline\n",
    "import matplotlib.pyplot as plt\n",
    "from interop import py_interop_plot, py_interop_run_metrics, py_interop_run"
   ]
  },
  {
   "cell_type": "code",
   "execution_count": 6,
   "metadata": {
    "collapsed": true
   },
   "outputs": [],
   "source": [
    "run_metrics = py_interop_run_metrics.run_metrics()"
   ]
  },
  {
   "cell_type": "code",
   "execution_count": 7,
   "metadata": {
    "collapsed": true
   },
   "outputs": [],
   "source": [
    "valid_to_load = py_interop_run.uchar_vector(py_interop_run.MetricCount, 0)\n",
    "valid_to_load[py_interop_run.Q]=1"
   ]
  },
  {
   "cell_type": "code",
   "execution_count": 8,
   "metadata": {
    "collapsed": true
   },
   "outputs": [],
   "source": [
    "run_metrics.read(run_folder, valid_to_load)"
   ]
  },
  {
   "cell_type": "code",
   "execution_count": 9,
   "metadata": {
    "collapsed": true
   },
   "outputs": [],
   "source": [
    "bar_data = py_interop_plot.bar_plot_data()\n",
    "boundary = 30\n",
    "options = py_interop_plot.filter_options(run_metrics.run_info().flowcell().naming_method())"
   ]
  },
  {
   "cell_type": "code",
   "execution_count": 10,
   "metadata": {
    "collapsed": true
   },
   "outputs": [],
   "source": [
    "py_interop_plot.plot_qscore_histogram(run_metrics, options, bar_data, boundary)"
   ]
  },
  {
   "cell_type": "code",
   "execution_count": 11,
   "metadata": {},
   "outputs": [
    {
     "data": {
      "image/png": "[encoded data removed]",
      "text/plain": [
       "<matplotlib.figure.Figure at 0x79056d8>"
      ]
     },
     "metadata": {},
     "output_type": "display_data"
    }
   ],
   "source": [
    "for i in xrange(bar_data.size()):\n",
    "    x = [bar_data.at(i).at(j).x() for j in xrange(bar_data.at(i).size())]\n",
    "    y = [bar_data.at(i).at(j).y() for j in xrange(bar_data.at(i).size())]\n",
    "    w = [bar_data.at(i).at(j).width() for j in xrange(bar_data.at(i).size())]\n",
    "    plt.bar(x, y, width=w, color=bar_data.at(i).color())\n",
    "plt.xlabel(bar_data.xyaxes().x().label(), fontsize=10)\n",
    "plt.ylabel(bar_data.xyaxes().y().label(), fontsize=10)\n",
    "plt.title(bar_data.title(), fontsize=10)\n",
    "plt.ylim([bar_data.xyaxes().y().min(), bar_data.xyaxes().y().max()])\n",
    "plt.xlim([bar_data.xyaxes().x().min(), bar_data.xyaxes().x().max()])\n",
    "plt.show()"
   ]
  },
  {
   "cell_type": "code",
   "execution_count": null,
   "metadata": {
    "collapsed": true
   },
   "outputs": [],
   "source": []
  }
 ],
 "metadata": {
  "kernelspec": {
   "display_name": "Python 2",
   "language": "python",
   "name": "python2"
  },
  "language_info": {
   "codemirror_mode": {
    "name": "ipython",
    "version": 2
   },
   "file_extension": ".py",
   "mimetype": "text/x-python",
   "name": "python",
   "nbconvert_exporter": "python",
   "pygments_lexer": "ipython2",
   "version": "2.7.13"
  }
 },
 "nbformat": 4,
 "nbformat_minor": 2
}
